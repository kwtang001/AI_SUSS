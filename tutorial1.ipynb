{
 "cells": [
  {
   "cell_type": "code",
   "execution_count": 1,
   "id": "50e86591",
   "metadata": {},
   "outputs": [
    {
     "name": "stdout",
     "output_type": "stream",
     "text": [
      "Hello World!\n"
     ]
    }
   ],
   "source": [
    "print('Hello World!')"
   ]
  },
  {
   "cell_type": "code",
   "execution_count": 3,
   "id": "9697074b",
   "metadata": {},
   "outputs": [],
   "source": [
    " import numpy as np\n",
    "    \n",
    "def square(x):\n",
    "    return x * x\n"
   ]
  },
  {
   "cell_type": "code",
   "execution_count": 4,
   "id": "b1f9375b",
   "metadata": {},
   "outputs": [
    {
     "name": "stdout",
     "output_type": "stream",
     "text": [
      "7 squared is 49\n"
     ]
    }
   ],
   "source": [
    "x=np.random.randint(1,10)\n",
    "y= square (x)\n",
    "print('%d squared is %d' % (x,y))"
   ]
  },
  {
   "cell_type": "code",
   "execution_count": 5,
   "id": "81952d0d",
   "metadata": {},
   "outputs": [
    {
     "name": "stdout",
     "output_type": "stream",
     "text": [
      "Is 7 squared 49?\n"
     ]
    }
   ],
   "source": [
    "print('Is %d squared %d?' % (x,y))"
   ]
  },
  {
   "cell_type": "code",
   "execution_count": 6,
   "id": "61c117af",
   "metadata": {},
   "outputs": [
    {
     "name": "stdout",
     "output_type": "stream",
     "text": [
      "Is 7 squared 10?\n"
     ]
    }
   ],
   "source": [
    "y=10\n",
    "print('Is %d squared %d?' % (x,y))"
   ]
  }
 ],
 "metadata": {
  "kernelspec": {
   "display_name": "Python 3",
   "language": "python",
   "name": "python3"
  },
  "language_info": {
   "codemirror_mode": {
    "name": "ipython",
    "version": 3
   },
   "file_extension": ".py",
   "mimetype": "text/x-python",
   "name": "python",
   "nbconvert_exporter": "python",
   "pygments_lexer": "ipython3",
   "version": "3.8.8"
  }
 },
 "nbformat": 4,
 "nbformat_minor": 5
}

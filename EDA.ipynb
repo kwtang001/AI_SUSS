{
 "cells": [
  {
   "cell_type": "code",
   "execution_count": 1,
   "id": "194d613c",
   "metadata": {
    "scrolled": false
   },
   "outputs": [],
   "source": [
    "import seaborn as sns\n",
    "import matplotlib.pyplot as plt\n",
    "import pandas as pd\n",
    "import numpy as np\n",
    "import os\n",
    "import warnings\n",
    "\n",
    "from sklearn.pipeline import Pipeline, make_pipeline\n",
    "\n",
    "from sklearn.linear_model import LinearRegression\n",
    "from sklearn.metrics import mean_squared_error, r2_score\n",
    "from sklearn.compose import ColumnTransformer, make_column_transformer\n",
    "\n",
    "from src.features import preprocessing\n",
    "from src.models import train_model\n",
    "\n",
    "\n",
    "warnings.filterwarnings('ignore')\n",
    "\n",
    "plt.style.use(['seaborn-paper'])\n",
    "plt.rcParams['font.family'] = 'Arial'\n",
    "\n",
    "os.getcwd()\n",
    "\n",
    "def main():\n",
    "\n",
    "    df=pd.read_csv(\"train.csv\")\n",
    "\n",
    "    in_features, out_features = preprocessing.make_dataset(df, 'SalePrice')\n",
    "\n",
    "\n",
    "    feat_names = [\"LotArea\", 'YearBuilt', '1stFlrSF','2ndFlrSF','FullBath','BedroomAbvGr','TotRmsAbvGrd','HouseStyle']\n",
    "\n",
    "    features = in_features[feat_names]\n",
    "\n",
    "\n",
    "    preprocess_pipeline = preprocessing.preprocess_pipeline(features)\n",
    "\n",
    "\n",
    "\n",
    "\n",
    "\n",
    "\n",
    "\n",
    "    model = make_pipeline(preprocess_pipeline, LinearRegression())\n",
    "\n",
    "\n",
    "    model, prediction, actual = train_model.train_model(features, out_features, model)\n",
    "\n",
    "    train_model.evaluate_model(predictions,actual, model)\n",
    "\n",
    "#if __name__ == \"__main__\":\n",
    "#   main()\n",
    "\n",
    "    \n",
    "\n",
    "\n",
    "def display_df_info(df_name, df, v=False):\n",
    "    \n",
    "    print(\"Shape (rows, cols)={}\".format(df.shape))\n",
    "    print(df.head())\n",
    "    \n",
    "    if v:\n",
    "        \n",
    "        print(df.info())\n",
    "        \n",
    "        \n",
    "        \n",
    "        \n",
    "        "
   ]
  },
  {
   "cell_type": "code",
   "execution_count": 8,
   "id": "1e4a08d4",
   "metadata": {
    "scrolled": true
   },
   "outputs": [
    {
     "data": {
      "text/plain": [
       "'C:\\\\Users\\\\user\\\\AI_SUSS'"
      ]
     },
     "execution_count": 8,
     "metadata": {},
     "output_type": "execute_result"
    }
   ],
   "source": [
    "import os\n",
    "os.getcwd()\n"
   ]
  },
  {
   "cell_type": "code",
   "execution_count": 9,
   "id": "2c86edf9",
   "metadata": {},
   "outputs": [],
   "source": [
    "house_data =pd.read_csv('train.csv')"
   ]
  },
  {
   "cell_type": "code",
   "execution_count": 10,
   "id": "337e7a0a",
   "metadata": {},
   "outputs": [
    {
     "data": {
      "text/plain": [
       "(1460, 81)"
      ]
     },
     "execution_count": 10,
     "metadata": {},
     "output_type": "execute_result"
    }
   ],
   "source": [
    "house_data.shape"
   ]
  },
  {
   "cell_type": "code",
   "execution_count": 11,
   "id": "8a07e482",
   "metadata": {},
   "outputs": [
    {
     "name": "stdout",
     "output_type": "stream",
     "text": [
      "object     43\n",
      "int64      35\n",
      "float64     3\n",
      "dtype: int64\n",
      " No. of n col is 43\n",
      " No. of c col is 38\n"
     ]
    }
   ],
   "source": [
    "print(house_data.dtypes.value_counts())\n",
    "\n",
    "\n",
    "n_cols = house_data.dtypes[house_data.dtypes == 'object']\n",
    "c_cols = house_data.dtypes[house_data.dtypes != 'object']\n",
    "\n",
    "print(' No. of n col is {}'.format(len(n_cols)))\n",
    "print (' No. of c col is {}'.format(len(c_cols)))\n"
   ]
  },
  {
   "cell_type": "code",
   "execution_count": 12,
   "id": "54884b43",
   "metadata": {},
   "outputs": [
    {
     "data": {
      "text/plain": [
       "Index(['Id', 'MSSubClass', 'MSZoning', 'LotFrontage', 'LotArea', 'Street',\n",
       "       'Alley', 'LotShape', 'LandContour', 'Utilities', 'LotConfig',\n",
       "       'LandSlope', 'Neighborhood', 'Condition1', 'Condition2', 'BldgType',\n",
       "       'HouseStyle', 'OverallQual', 'OverallCond', 'YearBuilt', 'YearRemodAdd',\n",
       "       'RoofStyle', 'RoofMatl', 'Exterior1st', 'Exterior2nd', 'MasVnrType',\n",
       "       'MasVnrArea', 'ExterQual', 'ExterCond', 'Foundation', 'BsmtQual',\n",
       "       'BsmtCond', 'BsmtExposure', 'BsmtFinType1', 'BsmtFinSF1',\n",
       "       'BsmtFinType2', 'BsmtFinSF2', 'BsmtUnfSF', 'TotalBsmtSF', 'Heating',\n",
       "       'HeatingQC', 'CentralAir', 'Electrical', '1stFlrSF', '2ndFlrSF',\n",
       "       'LowQualFinSF', 'GrLivArea', 'BsmtFullBath', 'BsmtHalfBath', 'FullBath',\n",
       "       'HalfBath', 'BedroomAbvGr', 'KitchenAbvGr', 'KitchenQual',\n",
       "       'TotRmsAbvGrd', 'Functional', 'Fireplaces', 'FireplaceQu', 'GarageType',\n",
       "       'GarageYrBlt', 'GarageFinish', 'GarageCars', 'GarageArea', 'GarageQual',\n",
       "       'GarageCond', 'PavedDrive', 'WoodDeckSF', 'OpenPorchSF',\n",
       "       'EnclosedPorch', '3SsnPorch', 'ScreenPorch', 'PoolArea', 'PoolQC',\n",
       "       'Fence', 'MiscFeature', 'MiscVal', 'MoSold', 'YrSold', 'SaleType',\n",
       "       'SaleCondition', 'SalePrice'],\n",
       "      dtype='object')"
      ]
     },
     "execution_count": 12,
     "metadata": {},
     "output_type": "execute_result"
    }
   ],
   "source": [
    "house_data.columns"
   ]
  },
  {
   "cell_type": "code",
   "execution_count": 13,
   "id": "907a6ce6",
   "metadata": {},
   "outputs": [
    {
     "name": "stdout",
     "output_type": "stream",
     "text": [
      "                 Id   MSSubClass MSZoning  LotFrontage        LotArea Street  \\\n",
      "count   1460.000000  1460.000000     1460  1201.000000    1460.000000   1460   \n",
      "unique          NaN          NaN        5          NaN            NaN      2   \n",
      "top             NaN          NaN       RL          NaN            NaN   Pave   \n",
      "freq            NaN          NaN     1151          NaN            NaN   1454   \n",
      "mean     730.500000    56.897260      NaN    70.049958   10516.828082    NaN   \n",
      "std      421.610009    42.300571      NaN    24.284752    9981.264932    NaN   \n",
      "min        1.000000    20.000000      NaN    21.000000    1300.000000    NaN   \n",
      "25%      365.750000    20.000000      NaN    59.000000    7553.500000    NaN   \n",
      "50%      730.500000    50.000000      NaN    69.000000    9478.500000    NaN   \n",
      "75%     1095.250000    70.000000      NaN    80.000000   11601.500000    NaN   \n",
      "max     1460.000000   190.000000      NaN   313.000000  215245.000000    NaN   \n",
      "\n",
      "       Alley LotShape LandContour Utilities  ...     PoolArea PoolQC  Fence  \\\n",
      "count     91     1460        1460      1460  ...  1460.000000      7    281   \n",
      "unique     2        4           4         2  ...          NaN      3      4   \n",
      "top     Grvl      Reg         Lvl    AllPub  ...          NaN     Gd  MnPrv   \n",
      "freq      50      925        1311      1459  ...          NaN      3    157   \n",
      "mean     NaN      NaN         NaN       NaN  ...     2.758904    NaN    NaN   \n",
      "std      NaN      NaN         NaN       NaN  ...    40.177307    NaN    NaN   \n",
      "min      NaN      NaN         NaN       NaN  ...     0.000000    NaN    NaN   \n",
      "25%      NaN      NaN         NaN       NaN  ...     0.000000    NaN    NaN   \n",
      "50%      NaN      NaN         NaN       NaN  ...     0.000000    NaN    NaN   \n",
      "75%      NaN      NaN         NaN       NaN  ...     0.000000    NaN    NaN   \n",
      "max      NaN      NaN         NaN       NaN  ...   738.000000    NaN    NaN   \n",
      "\n",
      "       MiscFeature       MiscVal       MoSold       YrSold  SaleType  \\\n",
      "count           54   1460.000000  1460.000000  1460.000000      1460   \n",
      "unique           4           NaN          NaN          NaN         9   \n",
      "top           Shed           NaN          NaN          NaN        WD   \n",
      "freq            49           NaN          NaN          NaN      1267   \n",
      "mean           NaN     43.489041     6.321918  2007.815753       NaN   \n",
      "std            NaN    496.123024     2.703626     1.328095       NaN   \n",
      "min            NaN      0.000000     1.000000  2006.000000       NaN   \n",
      "25%            NaN      0.000000     5.000000  2007.000000       NaN   \n",
      "50%            NaN      0.000000     6.000000  2008.000000       NaN   \n",
      "75%            NaN      0.000000     8.000000  2009.000000       NaN   \n",
      "max            NaN  15500.000000    12.000000  2010.000000       NaN   \n",
      "\n",
      "        SaleCondition      SalePrice  \n",
      "count            1460    1460.000000  \n",
      "unique              6            NaN  \n",
      "top            Normal            NaN  \n",
      "freq             1198            NaN  \n",
      "mean              NaN  180921.195890  \n",
      "std               NaN   79442.502883  \n",
      "min               NaN   34900.000000  \n",
      "25%               NaN  129975.000000  \n",
      "50%               NaN  163000.000000  \n",
      "75%               NaN  214000.000000  \n",
      "max               NaN  755000.000000  \n",
      "\n",
      "[11 rows x 81 columns]\n"
     ]
    }
   ],
   "source": [
    "print(house_data.describe(include ='all'))"
   ]
  },
  {
   "cell_type": "code",
   "execution_count": 17,
   "id": "2420b09d",
   "metadata": {},
   "outputs": [
    {
     "data": {
      "text/plain": [
       "count      1460.000000\n",
       "mean     180921.195890\n",
       "std       79442.502883\n",
       "min       34900.000000\n",
       "25%      129975.000000\n",
       "50%      163000.000000\n",
       "75%      214000.000000\n",
       "max      755000.000000\n",
       "Name: SalePrice, dtype: float64"
      ]
     },
     "execution_count": 17,
     "metadata": {},
     "output_type": "execute_result"
    }
   ],
   "source": [
    "house_data['SalePrice'].describe()\n"
   ]
  },
  {
   "cell_type": "code",
   "execution_count": 19,
   "id": "776b2889",
   "metadata": {},
   "outputs": [
    {
     "name": "stdout",
     "output_type": "stream",
     "text": [
      "Index(['LotFrontage', 'Alley', 'MasVnrType', 'MasVnrArea', 'BsmtQual',\n",
      "       'BsmtCond', 'BsmtExposure', 'BsmtFinType1', 'BsmtFinType2',\n",
      "       'Electrical', 'FireplaceQu', 'GarageType', 'GarageYrBlt',\n",
      "       'GarageFinish', 'GarageQual', 'GarageCond', 'PoolQC', 'Fence',\n",
      "       'MiscFeature'],\n",
      "      dtype='object')\n",
      " \n",
      " Total % of missing columns is  23.46%\n"
     ]
    }
   ],
   "source": [
    "miss_col = house_data.columns[house_data.isnull().sum() > 0]\n",
    "\n",
    "print(miss_col)\n",
    "print(f' \\n Total % of missing columns is  {len(miss_col)/house_data.shape[1] * 100:.2f}%')"
   ]
  },
  {
   "cell_type": "code",
   "execution_count": 20,
   "id": "d99b93bb",
   "metadata": {
    "scrolled": false
   },
   "outputs": [
    {
     "name": "stdout",
     "output_type": "stream",
     "text": [
      "Id                0.000000\n",
      "MSSubClass        0.000000\n",
      "MSZoning          0.000000\n",
      "LotFrontage      17.739726\n",
      "LotArea           0.000000\n",
      "                   ...    \n",
      "MoSold            0.000000\n",
      "YrSold            0.000000\n",
      "SaleType          0.000000\n",
      "SaleCondition     0.000000\n",
      "SalePrice         0.000000\n",
      "Length: 81, dtype: float64\n"
     ]
    }
   ],
   "source": [
    "print(house_data.isnull().sum() /len(house_data)* 100)\n"
   ]
  },
  {
   "cell_type": "code",
   "execution_count": 22,
   "id": "e3a9e7f9",
   "metadata": {},
   "outputs": [
    {
     "name": "stdout",
     "output_type": "stream",
     "text": [
      "PoolQC          99.520548\n",
      "MiscFeature     96.301370\n",
      "Alley           93.767123\n",
      "Fence           80.753425\n",
      "FireplaceQu     47.260274\n",
      "LotFrontage     17.739726\n",
      "GarageType       5.547945\n",
      "GarageYrBlt      5.547945\n",
      "GarageFinish     5.547945\n",
      "GarageQual       5.547945\n",
      "GarageCond       5.547945\n",
      "BsmtExposure     2.602740\n",
      "BsmtFinType2     2.602740\n",
      "BsmtFinType1     2.534247\n",
      "BsmtCond         2.534247\n",
      "BsmtQual         2.534247\n",
      "MasVnrArea       0.547945\n",
      "MasVnrType       0.547945\n",
      "Electrical       0.068493\n",
      "dtype: float64\n"
     ]
    }
   ],
   "source": [
    "miss_percent= house_data.isnull().sum() /len(house_data)* 100\n",
    "print( miss_percent[miss_percent > 0].sort_values(ascending=False))"
   ]
  },
  {
   "cell_type": "code",
   "execution_count": 24,
   "id": "d9f0680c",
   "metadata": {},
   "outputs": [],
   "source": [
    "drop_col=['PoolQC','MiscFeature','Alley','Fence','FireplaceQu']\n",
    "\n",
    "house_data_interim =house_data.drop(columns = drop_col, axis=1)"
   ]
  },
  {
   "cell_type": "code",
   "execution_count": 25,
   "id": "5f6214b0",
   "metadata": {},
   "outputs": [
    {
     "data": {
      "text/plain": [
       "(1460, 76)"
      ]
     },
     "execution_count": 25,
     "metadata": {},
     "output_type": "execute_result"
    }
   ],
   "source": [
    "house_data_interim.shape"
   ]
  },
  {
   "cell_type": "code",
   "execution_count": null,
   "id": "4a4f8830",
   "metadata": {},
   "outputs": [],
   "source": []
  }
 ],
 "metadata": {
  "kernelspec": {
   "display_name": "Python 3",
   "language": "python",
   "name": "python3"
  },
  "language_info": {
   "codemirror_mode": {
    "name": "ipython",
    "version": 3
   },
   "file_extension": ".py",
   "mimetype": "text/x-python",
   "name": "python",
   "nbconvert_exporter": "python",
   "pygments_lexer": "ipython3",
   "version": "3.8.8"
  }
 },
 "nbformat": 4,
 "nbformat_minor": 5
}
